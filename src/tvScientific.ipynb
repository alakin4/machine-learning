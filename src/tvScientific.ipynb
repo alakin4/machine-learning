{
 "cells": [
  {
   "cell_type": "markdown",
   "id": "d84fc1e8-7a50-48eb-b5b4-073cbbe9ff1c",
   "metadata": {},
   "source": [
    "## tvScientific 15-Minute ML Screen\n",
    "\n",
    "### Alan Kinene"
   ]
  },
  {
   "cell_type": "markdown",
   "id": "a427d763-e030-40ae-a58a-4838911d0a24",
   "metadata": {},
   "source": [
    "### Question 1"
   ]
  },
  {
   "cell_type": "code",
   "execution_count": 1,
   "id": "0e71407e-741f-4254-b612-630042bbfc5c",
   "metadata": {},
   "outputs": [],
   "source": [
    "# Q1) Define a function that returns the frequencies of the last digits \n",
    "#     of a list of nonnegative integers. \n",
    "#\n",
    "#     Use only the Python standard libraries.\n",
    "#\n",
    "#     Given the list [49, 10, 20, 5, 30, 785]: \n",
    "#     9 is the last digit once (in 49), \n",
    "#     0 is the last digit three times (in 10, 20, and 30), \n",
    "#     5 is the last digit two times (in 5 and 785) \n",
    "# last_digit_counts([49, 10, 20, 5, 30, 785]) \n",
    "#   = {9:1, 0:3, 5:2} # or something equivalent"
   ]
  },
  {
   "cell_type": "code",
   "execution_count": 3,
   "id": "72bb7d69-d9a4-4d94-8c0f-097e4281001e",
   "metadata": {},
   "outputs": [],
   "source": [
    "def last_digit_counts(digits: list):\n",
    "    # digits has nonnegative integers\n",
    "    # return: a dict of freq of the last digits\n",
    "    freq = {}\n",
    "    for d in digits:\n",
    "        last_digit = d % 10\n",
    "        \n",
    "        if last_digit not in freq:\n",
    "            freq[int(last_digit)] = 0\n",
    "\n",
    "        freq[int(last_digit)] += 1\n",
    "    return freq\n",
    "\n",
    "# Tests\n",
    "assert last_digit_counts([49, 10, 20, 5, 30, 785]) == {9: 1, 0: 3, 5: 2}, \"Test [49, 10, 20, 5, 30, 785] failed\"\n",
    "assert last_digit_counts([1, 11, 21, 31]) == {1: 4}, \"Test 1, 11, 21, 31] failed\"\n",
    "assert last_digit_counts([]) == {}, \"Test [] failed\"\n",
    "assert last_digit_counts([0, 10, 20, 30]) == {0: 4}, \"Test [0, 10, 20, 30] failed\""
   ]
  },
  {
   "cell_type": "markdown",
   "id": "47557871-543d-4e12-a981-7dbbaa7beea0",
   "metadata": {},
   "source": [
    "### Question 2"
   ]
  },
  {
   "cell_type": "code",
   "execution_count": 4,
   "id": "4555d65b-5c7f-426a-ae7a-8cbe631fe511",
   "metadata": {},
   "outputs": [],
   "source": [
    "# Q2) Given a list of 2-D coordinates, write a function that returns True\n",
    "#     if the points lie on a straight line and False otherwise.\n",
    "#\n",
    "#     Use only the Python standard libraries.\n",
    "#\n",
    "# collinear([[1,1], [2,2], [4,4], [-10, -10]]) = True\n",
    "# collinear([[1,0], [2,0], [3,1]]) = False"
   ]
  },
  {
   "cell_type": "code",
   "execution_count": 5,
   "id": "f652789f-7751-45b6-b0b7-3ec4dbc60347",
   "metadata": {},
   "outputs": [],
   "source": [
    "def collinear(coordinates: list):\n",
    "    # compare the slopes (dy/dx) of cordinates to determine if they are on the same line\n",
    "    if len(coordinates) == 1:\n",
    "        return True\n",
    "\n",
    "    # Get first two points\n",
    "    x0, y0 = coordinates[0]\n",
    "    x1, y1 = coordinates[1]\n",
    "\n",
    "    # slope = y1 - y0 / x1 - x0 = y - y1 / x - x1\n",
    "    for x, y in coordinates[2:]:\n",
    "        if (y1 - y0) * (x - x1) != (y - y1) * (x1 - x0):\n",
    "            return False\n",
    "    return True\n",
    "\n",
    "    \n",
    "# Tests\n",
    "assert collinear([[1,1], [2,2], [4,4], [-10, -10]]) == True, \"Points should be on a straight line\"\n",
    "assert collinear([[1,0], [2,0], [3,1]]) == False, \"Points are not on a straight line\""
   ]
  },
  {
   "cell_type": "markdown",
   "id": "82989867-f8f9-47a1-a38b-7911330a2e52",
   "metadata": {},
   "source": [
    "### Question 3"
   ]
  },
  {
   "cell_type": "code",
   "execution_count": 6,
   "id": "7539e6e8-7995-40db-8798-81b1a69af4c3",
   "metadata": {},
   "outputs": [],
   "source": [
    "# Q3) If you flip a fair coin 100 times (independently), \n",
    "#     what is the chance that more than 60 flips come up heads? \n",
    "#     Do not try to compute this value exactly; instead, use \n",
    "#     the simplest \"good\" approximation you can come up with.\n",
    "#     You should not write any code for this problem."
   ]
  },
  {
   "cell_type": "markdown",
   "id": "aa1f2e05-0f79-49c7-8bbc-0da56fdc86a7",
   "metadata": {},
   "source": [
    "Here, we can use the are under the curve of a normal distribution, think about it as running so many simulations (like 100 flips, 100,000 times) so that we are able to approximate the chance of us getting more than 60 heads out of 100.\n",
    "\n",
    "let the probability of hetting a head, P(heads) = 0.5\n",
    "A fair coin flip has a binomial distribution with with:\n",
    "- mean = 100 x 0.5 = 50\n",
    "- standard deviation (s.d) = (100 x 0.5 x (1-0.5))^0.5 =  5\n",
    "\n",
    "We want the probability that more than 60 heads show up, that is, P(heads > 60). From the bell curve, we know that the center is at the mean (50). Then we have reference points from left to right\n",
    "- 50 -3s.d = 35\n",
    "- 50 -2s.d = 40\n",
    "- 50 -s.d = 45\n",
    "- 50\n",
    "- 50 + s.d = 55\n",
    "- 50 + 2s.d = 60\n",
    "- 50 + 3s.d = 65\n",
    "\n",
    "So the region that gives us more than 60 flips with heads on top is slightly after 2 x standard devitions above the mean. The middle part between 50 -2s.d and 50 + 2s.d covers 95.5% of the events. So\n",
    "\n",
    "P(heads > 60) ~ (100 - 95.5)/2 = 2.25. \n",
    "\n",
    "> This is the upper bound, the probablity should be less than 2.25 since it is a strict less than."
   ]
  },
  {
   "cell_type": "markdown",
   "id": "422a9685-627b-4346-93f5-1cd0e9f82df7",
   "metadata": {},
   "source": [
    "### Question 4"
   ]
  },
  {
   "cell_type": "code",
   "execution_count": 7,
   "id": "baf11f8c-2bfa-4866-822b-2c0b83dc8390",
   "metadata": {},
   "outputs": [],
   "source": [
    "# Q4) What tools do you use to help you code productively? \n",
    "#     For example, what editor/IDE do you prefer? \n",
    "#     Testing framework? Linter? Command line utilities? \n",
    "#     Other tools you like or recommend to friends?\n",
    "#     Is there something you've discovered recently but haven’t \n",
    "#     had time to learn yet?"
   ]
  },
  {
   "cell_type": "markdown",
   "id": "5bbd5adb-8825-4a34-8537-a9ab3098090b",
   "metadata": {},
   "source": [
    "- I use Visual Studio Code for my IDE.\n",
    "- My testing framework is pytest. \n",
    "- For linting, I use ruff\n",
    "- For command line utilities, I use git, zsh\n",
    "- Some tools that I like to recommend to friends are uv, docker, colima, tmux, awscli, and duckDB.\n",
    "- I am yet to learn Model Context Protocol (MCP) and DoubleML"
   ]
  },
  {
   "cell_type": "code",
   "execution_count": null,
   "id": "7cb569ca-f61c-41a9-83e0-488a9360c9eb",
   "metadata": {},
   "outputs": [],
   "source": []
  }
 ],
 "metadata": {
  "kernelspec": {
   "display_name": "Python 3 (ipykernel)",
   "language": "python",
   "name": "python3"
  },
  "language_info": {
   "codemirror_mode": {
    "name": "ipython",
    "version": 3
   },
   "file_extension": ".py",
   "mimetype": "text/x-python",
   "name": "python",
   "nbconvert_exporter": "python",
   "pygments_lexer": "ipython3",
   "version": "3.13.5"
  }
 },
 "nbformat": 4,
 "nbformat_minor": 5
}
